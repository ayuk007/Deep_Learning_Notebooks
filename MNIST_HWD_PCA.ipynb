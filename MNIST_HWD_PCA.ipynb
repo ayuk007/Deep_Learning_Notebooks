{
  "nbformat": 4,
  "nbformat_minor": 0,
  "metadata": {
    "colab": {
      "provenance": []
    },
    "kernelspec": {
      "name": "python3",
      "display_name": "Python 3"
    },
    "language_info": {
      "name": "python"
    }
  },
  "cells": [
    {
      "cell_type": "code",
      "execution_count": 1,
      "metadata": {
        "id": "wNxe9g0uoWeN"
      },
      "outputs": [],
      "source": [
        "import numpy as np\n",
        "import tensorflow as tf\n",
        "from tensorflow import keras\n",
        "from tensorflow.keras.datasets import mnist\n",
        "import datetime"
      ]
    },
    {
      "cell_type": "code",
      "source": [
        "(train_images, train_labels),(test_images,test_labels) = mnist.load_data()"
      ],
      "metadata": {
        "id": "AZn_-xtLomtN",
        "colab": {
          "base_uri": "https://localhost:8080/",
          "height": 0
        },
        "outputId": "45055801-7625-4e6e-dcdb-b44f8bb4159e"
      },
      "execution_count": 2,
      "outputs": [
        {
          "output_type": "stream",
          "name": "stdout",
          "text": [
            "Downloading data from https://storage.googleapis.com/tensorflow/tf-keras-datasets/mnist.npz\n",
            "11490434/11490434 [==============================] - 0s 0us/step\n"
          ]
        }
      ]
    },
    {
      "cell_type": "code",
      "source": [
        "print(f\"Train images: {train_images.shape}\")\n",
        "print(f\"Train labels: {train_labels.shape}\")\n",
        "print(f\"Test images: {test_images.shape}\")\n",
        "print(f\"Test labels: {test_labels.shape}\")"
      ],
      "metadata": {
        "colab": {
          "base_uri": "https://localhost:8080/",
          "height": 0
        },
        "id": "IlMD6Q0vo6qE",
        "outputId": "96243814-6b9d-4843-acfc-b01a90d799ac"
      },
      "execution_count": 3,
      "outputs": [
        {
          "output_type": "stream",
          "name": "stdout",
          "text": [
            "Train images: (60000, 28, 28)\n",
            "Train labels: (60000,)\n",
            "Test images: (10000, 28, 28)\n",
            "Test labels: (10000,)\n"
          ]
        }
      ]
    },
    {
      "cell_type": "code",
      "source": [
        "train_images = np.reshape(train_images, (-1, 784))\n",
        "test_images = np.reshape(test_images, (-1, 784))"
      ],
      "metadata": {
        "id": "COttRZKApSCE"
      },
      "execution_count": 4,
      "outputs": []
    },
    {
      "cell_type": "code",
      "source": [
        "train_images = train_images.astype('float32') / 255\n",
        "test_images = test_images.astype('float32') / 255"
      ],
      "metadata": {
        "id": "RVcDDNwypiin"
      },
      "execution_count": 5,
      "outputs": []
    },
    {
      "cell_type": "code",
      "source": [
        "import matplotlib.pyplot as plt\n",
        "from sklearn.decomposition import PCA"
      ],
      "metadata": {
        "id": "Xp2lB9LPpwl1"
      },
      "execution_count": 6,
      "outputs": []
    },
    {
      "cell_type": "code",
      "source": [
        "pca_784 = PCA(n_components = 784)\n",
        "pca_784.fit(train_images)\n",
        "\n",
        "plt.grid()\n",
        "plt.plot(np.cumsum(pca_784.explained_variance_ratio_ * 100))\n",
        "plt.xlabel('Number of components')\n",
        "plt.ylabel('Explained Variance')"
      ],
      "metadata": {
        "colab": {
          "base_uri": "https://localhost:8080/",
          "height": 296
        },
        "id": "3iIE_hpLp5mP",
        "outputId": "8c6141b9-70e0-44c7-8367-7f487727a7ff"
      },
      "execution_count": 7,
      "outputs": [
        {
          "output_type": "execute_result",
          "data": {
            "text/plain": [
              "Text(0, 0.5, 'Explained Variance')"
            ]
          },
          "metadata": {},
          "execution_count": 7
        },
        {
          "output_type": "display_data",
          "data": {
            "text/plain": [
              "<Figure size 432x288 with 1 Axes>"
            ],
            "image/png": "[encoded data removed]"
          },
          "metadata": {
            "needs_background": "light"
          }
        }
      ]
    },
    {
      "cell_type": "code",
      "source": [
        "pca_100 = PCA(n_components = 100)\n",
        "pca_100.fit(train_images)\n",
        "\n",
        "train_images_reduced = pca_100.transform(train_images)\n",
        "test_images_reduced  = pca_100.transform(test_images)"
      ],
      "metadata": {
        "id": "MzpfdO01qkgp"
      },
      "execution_count": 8,
      "outputs": []
    },
    {
      "cell_type": "code",
      "source": [
        "from tensorflow.keras.utils import to_categorical\n",
        "\n",
        "train_labels = to_categorical(train_labels)\n",
        "test_labels = to_categorical(test_labels)"
      ],
      "metadata": {
        "id": "1NAsy0VmtNGU"
      },
      "execution_count": 9,
      "outputs": []
    },
    {
      "cell_type": "code",
      "source": [
        "print(f\"Reduced train images shape: {train_images_reduced.shape}\")\n",
        "print(f\"Reduced test images shape: {test_images_reduced.shape}\")"
      ],
      "metadata": {
        "colab": {
          "base_uri": "https://localhost:8080/",
          "height": 0
        },
        "id": "xMT11ajZrPYq",
        "outputId": "67d07c3f-a4c7-4913-a8f1-71791b313a83"
      },
      "execution_count": 10,
      "outputs": [
        {
          "output_type": "stream",
          "name": "stdout",
          "text": [
            "Reduced train images shape: (60000, 100)\n",
            "Reduced test images shape: (10000, 100)\n"
          ]
        }
      ]
    },
    {
      "cell_type": "code",
      "source": [
        "print(np.sum(pca_100.explained_variance_ratio_ * 100))     # We are able to retain 91.43% of variance of data after applying PCA "
      ],
      "metadata": {
        "colab": {
          "base_uri": "https://localhost:8080/",
          "height": 0
        },
        "id": "YzH6CAkUrVYS",
        "outputId": "285c8848-9a10-414b-c294-1c252ba48203"
      },
      "execution_count": 11,
      "outputs": [
        {
          "output_type": "stream",
          "name": "stdout",
          "text": [
            "91.42996\n"
          ]
        }
      ]
    },
    {
      "cell_type": "markdown",
      "source": [
        "# ***Model without regularization***"
      ],
      "metadata": {
        "id": "rLpUhu2XakmO"
      }
    },
    {
      "cell_type": "code",
      "source": [
        "model = keras.models.Sequential()\n",
        "model.add(keras.layers.InputLayer(input_shape = (100, )))\n",
        "model.add(keras.layers.Dense(units = 64, activation = 'relu'))\n",
        "model.add(keras.layers.Dense(units = 32, activation = 'relu'))\n",
        "model.add(keras.layers.Dense(units = 10, activation = 'softmax'))\n",
        "\n",
        "model.compile(\n",
        "    loss = keras.losses.categorical_crossentropy,\n",
        "    optimizer = 'adam',\n",
        "    metrics = ['accuracy']\n",
        ")"
      ],
      "metadata": {
        "id": "_lAPk4S9YbLJ"
      },
      "execution_count": 12,
      "outputs": []
    },
    {
      "cell_type": "code",
      "source": [
        "model.fit(train_images_reduced, train_labels, batch_size = 128, epochs = 10, verbose = 1, validation_split = 0.15)"
      ],
      "metadata": {
        "colab": {
          "base_uri": "https://localhost:8080/",
          "height": 0
        },
        "id": "7T5vd2b-s7ZC",
        "outputId": "87449bfe-e228-4730-e473-ddf0ecda776d"
      },
      "execution_count": 14,
      "outputs": [
        {
          "output_type": "stream",
          "name": "stdout",
          "text": [
            "Epoch 1/10\n",
            "399/399 [==============================] - 2s 3ms/step - loss: 0.6633 - accuracy: 0.8168 - val_loss: 0.2250 - val_accuracy: 0.9360\n",
            "Epoch 2/10\n",
            "399/399 [==============================] - 1s 3ms/step - loss: 0.2085 - accuracy: 0.9394 - val_loss: 0.1597 - val_accuracy: 0.9528\n",
            "Epoch 3/10\n",
            "399/399 [==============================] - 1s 2ms/step - loss: 0.1523 - accuracy: 0.9549 - val_loss: 0.1341 - val_accuracy: 0.9612\n",
            "Epoch 4/10\n",
            "399/399 [==============================] - 1s 3ms/step - loss: 0.1209 - accuracy: 0.9647 - val_loss: 0.1168 - val_accuracy: 0.9664\n",
            "Epoch 5/10\n",
            "399/399 [==============================] - 1s 3ms/step - loss: 0.1002 - accuracy: 0.9709 - val_loss: 0.1068 - val_accuracy: 0.9682\n",
            "Epoch 6/10\n",
            "399/399 [==============================] - 1s 2ms/step - loss: 0.0851 - accuracy: 0.9748 - val_loss: 0.1033 - val_accuracy: 0.9691\n",
            "Epoch 7/10\n",
            "399/399 [==============================] - 1s 3ms/step - loss: 0.0741 - accuracy: 0.9785 - val_loss: 0.0968 - val_accuracy: 0.9704\n",
            "Epoch 8/10\n",
            "399/399 [==============================] - 1s 2ms/step - loss: 0.0653 - accuracy: 0.9808 - val_loss: 0.0937 - val_accuracy: 0.9717\n",
            "Epoch 9/10\n",
            "399/399 [==============================] - 1s 2ms/step - loss: 0.0574 - accuracy: 0.9833 - val_loss: 0.0918 - val_accuracy: 0.9734\n",
            "Epoch 10/10\n",
            "399/399 [==============================] - 1s 2ms/step - loss: 0.0509 - accuracy: 0.9849 - val_loss: 0.0937 - val_accuracy: 0.9720\n"
          ]
        },
        {
          "output_type": "execute_result",
          "data": {
            "text/plain": [
              "<keras.callbacks.History at 0x7f145fe8f4f0>"
            ]
          },
          "metadata": {},
          "execution_count": 14
        }
      ]
    },
    {
      "cell_type": "code",
      "source": [
        "model.evaluate(test_images_reduced, test_labels, batch_size = 128, verbose = 1)"
      ],
      "metadata": {
        "colab": {
          "base_uri": "https://localhost:8080/",
          "height": 0
        },
        "id": "qWEehraduWEE",
        "outputId": "fbede321-1f86-4f31-a48e-6654a12d2669"
      },
      "execution_count": 15,
      "outputs": [
        {
          "output_type": "stream",
          "name": "stdout",
          "text": [
            "79/79 [==============================] - 0s 2ms/step - loss: 0.0876 - accuracy: 0.9721\n"
          ]
        },
        {
          "output_type": "execute_result",
          "data": {
            "text/plain": [
              "[0.0875641480088234, 0.972100019454956]"
            ]
          },
          "metadata": {},
          "execution_count": 15
        }
      ]
    },
    {
      "cell_type": "code",
      "source": [
        "model.summary()"
      ],
      "metadata": {
        "colab": {
          "base_uri": "https://localhost:8080/",
          "height": 0
        },
        "id": "nsBVGUwfwlZg",
        "outputId": "9a1dbb3c-a6d3-4004-c15e-472d2629b3bd"
      },
      "execution_count": 16,
      "outputs": [
        {
          "output_type": "stream",
          "name": "stdout",
          "text": [
            "Model: \"sequential\"\n",
            "_________________________________________________________________\n",
            " Layer (type)                Output Shape              Param #   \n",
            "=================================================================\n",
            " dense (Dense)               (None, 64)                6464      \n",
            "                                                                 \n",
            " dense_1 (Dense)             (None, 32)                2080      \n",
            "                                                                 \n",
            " dense_2 (Dense)             (None, 10)                330       \n",
            "                                                                 \n",
            "=================================================================\n",
            "Total params: 8,874\n",
            "Trainable params: 8,874\n",
            "Non-trainable params: 0\n",
            "_________________________________________________________________\n"
          ]
        }
      ]
    },
    {
      "cell_type": "markdown",
      "source": [
        "# ***Model with regularization***"
      ],
      "metadata": {
        "id": "bvRWRaJWaaIQ"
      }
    },
    {
      "cell_type": "code",
      "source": [
        "model_op = keras.models.Sequential()\n",
        "model_op.add(keras.layers.InputLayer(input_shape = (100, )))\n",
        "model_op.add(keras.layers.Dense(units = 64, activation = 'relu'))\n",
        "model_op.add(keras.layers.Dense(units = 32, activation = 'relu', kernel_regularizer = keras.regularizers.L2(l2 = 0.005)))\n",
        "model_op.add(keras.layers.Dense(units = 10, activation = 'softmax'))\n",
        "\n",
        "model_op.compile(\n",
        "    loss = keras.losses.categorical_crossentropy,\n",
        "    optimizer = 'adam',\n",
        "    metrics = ['accuracy']\n",
        ")"
      ],
      "metadata": {
        "id": "STO-mH7PriHz"
      },
      "execution_count": 13,
      "outputs": []
    },
    {
      "cell_type": "code",
      "source": [
        "model_op.fit(train_images_reduced, train_labels, batch_size = 128, epochs = 10, verbose = 1, validation_split = 0.15)"
      ],
      "metadata": {
        "colab": {
          "base_uri": "https://localhost:8080/",
          "height": 0
        },
        "id": "a-oqhIuSYsYs",
        "outputId": "b4acb273-4655-4153-84bf-6ee4bde6d9d1"
      },
      "execution_count": 17,
      "outputs": [
        {
          "output_type": "stream",
          "name": "stdout",
          "text": [
            "Epoch 1/10\n",
            "399/399 [==============================] - 2s 3ms/step - loss: 0.8377 - accuracy: 0.8169 - val_loss: 0.3810 - val_accuracy: 0.9344\n",
            "Epoch 2/10\n",
            "399/399 [==============================] - 1s 3ms/step - loss: 0.3422 - accuracy: 0.9367 - val_loss: 0.2697 - val_accuracy: 0.9491\n",
            "Epoch 3/10\n",
            "399/399 [==============================] - 1s 3ms/step - loss: 0.2582 - accuracy: 0.9490 - val_loss: 0.2150 - val_accuracy: 0.9593\n",
            "Epoch 4/10\n",
            "399/399 [==============================] - 1s 3ms/step - loss: 0.2136 - accuracy: 0.9577 - val_loss: 0.1879 - val_accuracy: 0.9626\n",
            "Epoch 5/10\n",
            "399/399 [==============================] - 1s 2ms/step - loss: 0.1853 - accuracy: 0.9635 - val_loss: 0.1690 - val_accuracy: 0.9666\n",
            "Epoch 6/10\n",
            "399/399 [==============================] - 1s 3ms/step - loss: 0.1657 - accuracy: 0.9674 - val_loss: 0.1567 - val_accuracy: 0.9676\n",
            "Epoch 7/10\n",
            "399/399 [==============================] - 1s 3ms/step - loss: 0.1491 - accuracy: 0.9705 - val_loss: 0.1455 - val_accuracy: 0.9718\n",
            "Epoch 8/10\n",
            "399/399 [==============================] - 1s 2ms/step - loss: 0.1368 - accuracy: 0.9735 - val_loss: 0.1377 - val_accuracy: 0.9720\n",
            "Epoch 9/10\n",
            "399/399 [==============================] - 1s 3ms/step - loss: 0.1266 - accuracy: 0.9754 - val_loss: 0.1348 - val_accuracy: 0.9729\n",
            "Epoch 10/10\n",
            "399/399 [==============================] - 1s 2ms/step - loss: 0.1181 - accuracy: 0.9774 - val_loss: 0.1255 - val_accuracy: 0.9748\n"
          ]
        },
        {
          "output_type": "execute_result",
          "data": {
            "text/plain": [
              "<keras.callbacks.History at 0x7f1452b76640>"
            ]
          },
          "metadata": {},
          "execution_count": 17
        }
      ]
    },
    {
      "cell_type": "code",
      "source": [
        "model_op.evaluate(test_images_reduced, test_labels, batch_size = 128, verbose = 1)"
      ],
      "metadata": {
        "colab": {
          "base_uri": "https://localhost:8080/",
          "height": 0
        },
        "id": "u67yvrsqYto_",
        "outputId": "1b2d6b36-1dea-4f8d-b4aa-998d688b549a"
      },
      "execution_count": 18,
      "outputs": [
        {
          "output_type": "stream",
          "name": "stdout",
          "text": [
            "79/79 [==============================] - 0s 2ms/step - loss: 0.1290 - accuracy: 0.9731\n"
          ]
        },
        {
          "output_type": "execute_result",
          "data": {
            "text/plain": [
              "[0.128995880484581, 0.9731000065803528]"
            ]
          },
          "metadata": {},
          "execution_count": 18
        }
      ]
    },
    {
      "cell_type": "code",
      "source": [
        "model_op.summary()"
      ],
      "metadata": {
        "colab": {
          "base_uri": "https://localhost:8080/",
          "height": 0
        },
        "id": "zSoCLC6-YxkM",
        "outputId": "382d5d36-312e-42cf-f2ae-76126ffcc0ea"
      },
      "execution_count": 19,
      "outputs": [
        {
          "output_type": "stream",
          "name": "stdout",
          "text": [
            "Model: \"sequential_1\"\n",
            "_________________________________________________________________\n",
            " Layer (type)                Output Shape              Param #   \n",
            "=================================================================\n",
            " dense_3 (Dense)             (None, 64)                6464      \n",
            "                                                                 \n",
            " dense_4 (Dense)             (None, 32)                2080      \n",
            "                                                                 \n",
            " dense_5 (Dense)             (None, 10)                330       \n",
            "                                                                 \n",
            "=================================================================\n",
            "Total params: 8,874\n",
            "Trainable params: 8,874\n",
            "Non-trainable params: 0\n",
            "_________________________________________________________________\n"
          ]
        }
      ]
    }
  ]
}